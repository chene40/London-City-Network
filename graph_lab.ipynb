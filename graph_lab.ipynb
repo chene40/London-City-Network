{
 "cells": [
  {
   "cell_type": "markdown",
   "metadata": {},
   "source": [
    "# Graph Lab"
   ]
  },
  {
   "cell_type": "markdown",
   "metadata": {},
   "source": [
    "## Header information:\n",
    "\n",
    "  - Author #1: Eric Chen (chene40@mcmaster.ca)\n",
    "  - Author #2: Payton Chan (chanp29@mcmaster.ca)\n",
    "  - Gitlab URL: https://gitlab.cas.mcmaster.ca/chene40/l1-graph-lab\n",
    "  - Avenue to Learn group name: Group 40"
   ]
  },
  {
   "cell_type": "markdown",
   "metadata": {},
   "source": [
    "<img src=\"./Class_Diagram.png\">"
   ]
  },
  {
   "cell_type": "markdown",
   "metadata": {},
   "source": [
    "WEEK 1\n",
    "\n",
    "Four distinct classes, each with a special function to serve the Itinerary class, were defined in our design. All necessary information is accurately extracted from the csv file by the parser class and put into a list that can be used by all other classes. Having complete discretion over how to design our parser, we determined that the best course of action would be to give it its own class and import it into any other classes that require it. A new parser would have to be implemented for every class, which would be excessively repetitious and inconsistent. The system consists of six functions, including three for data extraction and three more for output. \n",
    "\n",
    "Then, a \"Node\" class was created to represent each station. It accepts an integer representing the stationID and uses the parser class to obtain information about that station. Additionally, it has functions for returning this information, primarily into the graph class which takes in a collection of nodes and determines relationships between them, including physical connections, adjacent nodes, coordinates and the heuristic distance, which would be used for the A* search algorithm in the Itinerary class.\n",
    "\n",
    "This heuristic distance is computed using the coordinates of two nodes and finding the Euclidean distance (linear) between them. We decided on this approach since the coordinates would accurately depict the separation between two stations. Therefore, the initial heuristic distance would represent the ideal circumstance in which the two stations are adjacent to one another. The total distance of the entire voyage might likewise be calculated using this distance. We made the assumption that all trains moved at the same speed because there was no time metric specified, which would indicate that the length of the journey directly affects how long it takes. \n",
    "\n",
    "Finally, the shortest path between two stations is determined using the Itinerary class. It uses the Dijkstra algorithm and the A* algorithm as its two search algorithms. While A* algorithm uses the aforementioned heuristics, Dijkstra's method uses the \"time\" input from the london connections csv file to calculate the shortest distance. The class returns the shortest path's stations as well as the overall distance travelled.\n",
    "\n",
    "In terms of workload distributiion; Eric created the Parser class and implemented Dijkstra's algorithm and the benchmark while Payton implemented the A* algorithm. Both the Graph and Node classes as well as the UML class diagram were completed collaboratively."
   ]
  },
  {
   "cell_type": "markdown",
   "id": "b6a49ea1",
   "metadata": {},
   "source": [
    "<img src=\"./Class_Diagram_Week2.png\">"
   ]
  },
  {
   "cell_type": "markdown",
   "id": "1dada222",
   "metadata": {},
   "source": [
    "WEEK 2\n",
    "\n",
    "The two new features that were added utilising the pre-existing classes are shown in the class diagram above. Two new classes (SubwayPatrol and UrbanismPlanning) were developed with the SOLID design principles in mind to replicate two distinct real-world scenarios in code. Using the idea of encapsulation, the separation of classes and their respective functionalities was carried out while adhering to the single-responsibility concept. Regarding the open-closed principle, all of our classes and their principal responsibilities have been put to the test to make sure they successfully carry out their particular duties. When necessary, additional properties can be added to a class individually as they have no direct impact on any associated classes. The two new classes can both use their local functions in their operations and both reference the Graph object type. As far as the use of interfaces is concerned, the directions were followed because our code may be run using pipenv commands and testing tools written in Python. Our class diagram demonstrates how our classes are all connected but distinct from one another. They place more emphasis on performing a particular duty while utilising generalised attributes and functions.\n",
    "\n",
    "The SubwayPatrol algorithm changes the shortest path algorithms used in the Itinerary class to determine the shortest route between a number of stations as a solution to the Traveler Salesman Problem. If there is a priority order between stations or if there are any travel restrictions placed between a group of stations, it would prove to be the most efficient. The order would be less relevant in a real-world case where numerous vehicles would be patrolling an area simultaneously since the vehicles would coordinate to cover all stations. When the stations are not provided but another site is, the system can still be used. Here, the UrbanismPlanning class might be used to establish zones that would better direct patrol routes.\n",
    "\n",
    "According to station coordinates and a given graph, the UrbanismPlanning algorithm declares certain zones. Both stations and islands, which are groups of separate transit stations, are present in these zones. Given that not all connected stations are geographically close to one another, this would be helpful. This new technique can be utilised to identify specific routes that could not be recognised using stated station links since zones are constrained by a physical domain. "
   ]
  },
  {
   "cell_type": "markdown",
   "id": "091f4c3c",
   "metadata": {},
   "source": [
    "FINAL ENTRY\n",
    "\n",
    "Regarding some of the commands used to run our program:\n",
    "Instead of running: python pipenv run python -m coverage run -m pytest -v test_*.py\n",
    "We used: pipenv run python -m coverage run -m pytest -v Tests/test_*.py \n",
    "Followed by: pipenv run python -m coverage report\n",
    "\n",
    "For the flake8 linting, we used: \n",
    "pipenv run python -m flake8 Itinerary/*.py\n",
    "pipenv run python -m flake8 Tests/*.py"
   ]
  },
  {
   "cell_type": "markdown",
   "id": "51faf955",
   "metadata": {},
   "source": [
    "SELF-REFLECTION: ERIC\n",
    "\n",
    "Backwards:\n",
    "I am actually currently working on something very similar to this project for my part time job! I currently work as a university research assistance for Cubic @ McMaster on their web team. This project mostly revolves around creating an RTA traffic model to display multiple information such as traffic conditions, queue length, city health, etc... for the city of Hamilton. Although I am working in different languages (React, TypeScript, Tailwind, etc...), with different objectives (web design), I feel like this project lies in closely to the field of work I'm doing, that is, revolving around traffic systems and city routes. Though the job itself isn't implementing algorithms to find like the shortest path from one point to another or finding connected (components) cities and zones, it's still working with the traffic and routes within Hamilton. There may not be as much similarity with the project we're doing but the topic of working on creating navigation and displaying/transmitting routing information for a city sparked some sort of connection to me and how its great to see how I could potentially use what I learned in this lab to create a more expansive web app. \n",
    "\n",
    "Inwards:\n",
    "I personally feel like the more I work on this lab, the more interesting it gets. Starting off, the lab was overwhelming itself since not only were there was just a lot on my plate (juggling 5 other courses + working 2 jobs (URA and TA)), but the lab itself seemed very intensive in terms of the workload. I found that the time allocated for completing the assigned tasks for each week was not enough time. From understanding the problem itself, to researching the design to implementing it, the time itself was a major constraint in how we developed. However, there were a few things that I particularly liked about this lab. The first was the freedom that we had in design and how we weren't limited to what we can do (except how we weren't able to add on additional dependencies or packages which kinda sucked) - it gives me a better sense of how I could potentially start and create my own projects in the future. I also liked how we were directed to implement Dijkstra's and A* algorithm, two very important algorithms that are used in our daily lives. We took data structure and algorithms last year and learned all sorts of DSAs but we never had an opportunity to implement it in class. Having implemented D's and A*, I feel like I was able to reinforce my pre-existing knowledge on algorithms and learn a couple of things on the go as well.\n",
    "\n",
    "Outward:\n",
    "One thing that I want people to especially notice about our work is how encapsulated our classes are and how they are aligned with the single responsibility principle in SOLID. Every class has a specific purpose and uses abstraction from other classes to achieve its functionality. For example, Parser only parses the input data and can be distributed to many classes that need it. Itinerary contains the implementation of Dijkstra's and A* for finding the shortest path. Node contains the attributes and methods for a specific station and the list goes on and on. The power of abstraction and encapsulation is very much of importance in designing larger systems as we will not have to rely on the lower-level details and we can call the function's methods to get what we need. It acts as the building blocks so we can build more complicated systems to achieve our needs.\n",
    "\n",
    "Forward:\n",
    "If given the chance to work on this project again, I probably would have spent a few days thinking about the overall design and structure (i.e. file hierarchy, methods required, relationship between classes, etc...) before getting into implementation. Having the preliminary tasks laid out would've saved a lot of time when it comes to implementation as we were thinking of how the structure and program fit together when we were implementing it. That is to say, having multiple things on our mind to think about when instead, we could've had a clear mind focused on solving one issue. This is sort of like the single responsibility principle in action, in real life. Implementation is only implementation and design is only design. Of course, there are a phletora of issues that could have also been resolved if given the chance to again, but the biggest thing that I would've tackled is the overall structure of our program."
   ]
  },
  {
   "cell_type": "markdown",
   "id": "e2188edb",
   "metadata": {},
   "source": [
    "SELF-REFLECTION: PAYTON\n",
    "\n",
    "Backwards:\n",
    "Although I'm very new to the idea of organising transportation, I'm not a stranger to object oriented programming concepts and principles. I have finished a number of smaller projects that share the same SOLID principles needed for this job. I was able to make a tiny survival game with statistics based on player qualities using a variety of object classes. In addition, I developed a search algorithm that determined the length of a game based on the number of rooms visited and objects acquired.\n",
    "\n",
    "Inwards:\n",
    "This lab proved to be quite challenging at first because it was a very different type of project than I had anticipated. While conceptualising the various elements of our system, I referred to previous year's content to help me with both my coding and engineering design knowledge. One aspect that I appreciated was the freedom to make our own decisions. In every case, the design was to be completed at our discretion in terms of metrics and methods, which provided me with a multitude of options to investigate. I understand that each solution has advantages and disadvantages that should be stated explicitly for others to understand. On the contrary, I disliked the lack of assistance I received in completing the project. My colleague and I were both unsure of what the markers expected, as well as how much intrinsic detail we should include in this project. This made it difficult for us to make critical decisions about how to implement all of the key components of our design.\n",
    "\n",
    "Outward:\n",
    "The organization of our system is the major aspect of our job that I want people to notice. I am aware that it could be challenging for a spectator to comprehend all the complexity of our design, which is why it is crucial to encapsulate our classes. It is really easy to comprehend the flow of our classes and how they interact with one another without having to know all of the coding syntax. The class descriptions help put each class's purpose and contribution to the overall system in context, which improves the readability of the code itself.\n",
    "\n",
    "Forward:\n",
    "To clearly define my objectives and the challenge I'm trying to solve, I'd like to create an unambiguous problem statement. We spent a lot of time debating the design's structure because we had no idea what to anticipate. The sooner we recognise our issue and its limitations, the sooner we can develop a workable solution. The implementation would have been lot simpler if we had a clear template for our concept. Additionally, this would have provided us additional time for revisions and the chance to thoroughly test our concept."
   ]
  }
 ],
 "metadata": {
  "kernelspec": {
   "display_name": "Python 3.10.7 64-bit",
   "language": "python",
   "name": "python3"
  },
  "language_info": {
   "codemirror_mode": {
    "name": "ipython",
    "version": 3
   },
   "file_extension": ".py",
   "mimetype": "text/x-python",
   "name": "python",
   "nbconvert_exporter": "python",
   "pygments_lexer": "ipython3",
   "version": "3.10.7"
  },
  "vscode": {
   "interpreter": {
    "hash": "a1e60d1f1cdab1abe4cfa434fb032b7e46e75d7bbbc8b5edfbaa85fe07d27dfb"
   }
  }
 },
 "nbformat": 4,
 "nbformat_minor": 5
}
