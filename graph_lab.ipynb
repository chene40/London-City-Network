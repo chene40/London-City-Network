{
 "cells": [
  {
   "cell_type": "markdown",
   "metadata": {},
   "source": [
    "# Graph Lab"
   ]
  },
  {
   "cell_type": "markdown",
   "metadata": {},
   "source": [
    "## Header information:\n",
    "\n",
    "  - Author #1: Eric Chen (chene40@mcmaster.ca)\n",
    "  - Author #2: Payton Chan (chanp29@mcmaster.ca)\n",
    "  - Gitlab URL: https://gitlab.cas.mcmaster.ca/chene40/l1-graph-lab\n",
    "  - Avenue to Learn group name: Group 40"
   ]
  },
  {
   "cell_type": "markdown",
   "metadata": {},
   "source": [
    "<img src=\"./Class_Diagram.png\">"
   ]
  },
  {
   "cell_type": "markdown",
   "metadata": {},
   "source": [
    "Four distinct classes, each with a special function to serve the Itinerary class, were defined in our design. All necessary information is accurately extracted from the csv file by the parser class and put into a list that can be used by all other classes. Having complete discretion over how to design our parser, we determined that the best course of action would be to give it its own class and import it into any other classes that require it. A new parser would have to be implemented for every class, which would be excessively repetitious and inconsistent. The system consists of six functions, including three for data extraction and three more for output. \n",
    "\n",
    "Then, a \"Node\" class was created to represent each station. It accepts an integer representing the stationID and uses the parser class to obtain information about that station. Additionally, it has functions for returning this information, primarily into the graph class which takes in a collection of nodes and determines relationships between them, including physical connections, adjacent nodes, coordinates and the heuristic distance, which would be used for the A* search algorithm in the Itinerary class.\n",
    "\n",
    "This heuristic distance is computed using the coordinates of two nodes and finding the Euclidean distance (linear) between them. We decided on this approach since the coordinates would accurately depict the separation between two stations. Therefore, the initial heuristic distance would represent the ideal circumstance in which the two stations are adjacent to one another. The total distance of the entire voyage might likewise be calculated using this distance. We made the assumption that all trains moved at the same speed because there was no time metric specified, which would indicate that the length of the journey directly affects how long it takes. \n",
    "\n",
    "Finally, the shortest path between two stations is determined using the Itinerary class. It uses the Dijkstra algorithm and the A* algorithm as its two search algorithms. While A* algorithm uses the aforementioned heuristics, Dijkstra's method uses the \"time\" input from the london connections csv file to calculate the shortest distance. The class returns the shortest path's stations as well as the overall distance travelled.\n",
    "\n",
    "In terms of workload distributiion; Eric created the Parser class and implemented Dijkstra's algorithm and the benchmark while Payton implemented the A* algorithm. Both the Graph and Node classes as well as the UML class diagram were completed collaboratively."
   ]
  }
 ],
 "metadata": {
  "kernelspec": {
   "display_name": "Python 3",
   "language": "python",
   "name": "python3"
  },
  "language_info": {
   "codemirror_mode": {
    "name": "ipython",
    "version": 3
   },
   "file_extension": ".py",
   "mimetype": "text/x-python",
   "name": "python",
   "nbconvert_exporter": "python",
   "pygments_lexer": "ipython3",
   "version": "3.8.3"
  },
  "vscode": {
   "interpreter": {
    "hash": "aee8b7b246df8f9039afb4144a1f6fd8d2ca17a180786b69acc140d282b71a49"
   }
  }
 },
 "nbformat": 4,
 "nbformat_minor": 5
}
