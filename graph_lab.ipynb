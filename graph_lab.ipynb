{
 "cells": [
  {
   "cell_type": "markdown",
   "metadata": {},
   "source": [
    "# Graph Lab"
   ]
  },
  {
   "cell_type": "markdown",
   "metadata": {},
   "source": [
    "## Header information:\n",
    "\n",
    "  - Author #1: Eric Chen (chene40@mcmaster.ca)\n",
    "  - Author #2: Payton Chan (chanp29@mcmaster.ca)\n",
    "  - Gitlab URL: https://gitlab.cas.mcmaster.ca/chene40/l1-graph-lab\n",
    "  - Avenue to Learn group name: Group 40"
   ]
  },
  {
   "cell_type": "markdown",
   "metadata": {},
   "source": [
    "<img src=\"./Class_Diagram.png\">"
   ]
  },
  {
   "cell_type": "markdown",
   "metadata": {},
   "source": [
    "WEEK 1\n",
    "\n",
    "Four distinct classes, each with a special function to serve the Itinerary class, were defined in our design. All necessary information is accurately extracted from the csv file by the parser class and put into a list that can be used by all other classes. Having complete discretion over how to design our parser, we determined that the best course of action would be to give it its own class and import it into any other classes that require it. A new parser would have to be implemented for every class, which would be excessively repetitious and inconsistent. The system consists of six functions, including three for data extraction and three more for output. \n",
    "\n",
    "Then, a \"Node\" class was created to represent each station. It accepts an integer representing the stationID and uses the parser class to obtain information about that station. Additionally, it has functions for returning this information, primarily into the graph class which takes in a collection of nodes and determines relationships between them, including physical connections, adjacent nodes, coordinates and the heuristic distance, which would be used for the A* search algorithm in the Itinerary class.\n",
    "\n",
    "This heuristic distance is computed using the coordinates of two nodes and finding the Euclidean distance (linear) between them. We decided on this approach since the coordinates would accurately depict the separation between two stations. Therefore, the initial heuristic distance would represent the ideal circumstance in which the two stations are adjacent to one another. The total distance of the entire voyage might likewise be calculated using this distance. We made the assumption that all trains moved at the same speed because there was no time metric specified, which would indicate that the length of the journey directly affects how long it takes. \n",
    "\n",
    "Finally, the shortest path between two stations is determined using the Itinerary class. It uses the Dijkstra algorithm and the A* algorithm as its two search algorithms. While A* algorithm uses the aforementioned heuristics, Dijkstra's method uses the \"time\" input from the london connections csv file to calculate the shortest distance. The class returns the shortest path's stations as well as the overall distance travelled.\n",
    "\n",
    "In terms of workload distributiion; Eric created the Parser class and implemented Dijkstra's algorithm and the benchmark while Payton implemented the A* algorithm. Both the Graph and Node classes as well as the UML class diagram were completed collaboratively."
   ]
  },
  {
   "cell_type": "markdown",
   "id": "b6a49ea1",
   "metadata": {},
   "source": [
    "<img src=\"./Class_Diagram_Week2.png\">"
   ]
  },
  {
   "cell_type": "markdown",
   "id": "1dada222",
   "metadata": {},
   "source": [
    "WEEK 2\n",
    "\n",
    "The two new features that were added utilising the pre-existing classes are shown in the class diagram above. Two new classes (SubwayPatrol and UrbanismPlanning) were developed with the SOLID design principles in mind to replicate two distinct real-world scenarios in code. Using the idea of encapsulation, the separation of classes and their respective functionalities was carried out while adhering to the single-responsibility concept. Regarding the open-closed principle, all of our classes and their principal responsibilities have been put to the test to make sure they successfully carry out their particular duties. When necessary, additional properties can be added to a class individually as they have no direct impact on any associated classes. The two new classes can both use their local functions in their operations and both reference the Graph object type. As far as the use of interfaces is concerned, the directions were followed because our code may be run using pipenv commands and testing tools written in Python. Our class diagram demonstrates how our classes are all connected but distinct from one another. They place more emphasis on performing a particular duty while utilising generalised attributes and functions.\n",
    "\n",
    "The SubwayPatrol algorithm changes the shortest path algorithms used in the Itinerary class to determine the shortest route between a number of stations as a solution to the Traveler Salesman Problem. If there is a priority order between stations or if there are any travel restrictions placed between a group of stations, it would prove to be the most efficient. The order would be less relevant in a real-world case where numerous vehicles would be patrolling an area simultaneously since the vehicles would coordinate to cover all stations. When the stations are not provided but another site is, the system can still be used. Here, the UrbanismPlanning class might be used to establish zones that would better direct patrol routes.\n",
    "\n",
    "According to station coordinates and a given graph, the UrbanismPlanning algorithm declares certain zones. Both stations and islands, which are groups of separate transit stations, are present in these zones. Given that not all connected stations are geographically close to one another, this would be helpful. This new technique can be utilised to identify specific routes that could not be recognised using stated station links since zones are constrained by a physical domain. "
   ]
  }
 ],
 "metadata": {
  "kernelspec": {
   "display_name": "Python 3.10.7 64-bit",
   "language": "python",
   "name": "python3"
  },
  "language_info": {
   "codemirror_mode": {
    "name": "ipython",
    "version": 3
   },
   "file_extension": ".py",
   "mimetype": "text/x-python",
   "name": "python",
   "nbconvert_exporter": "python",
   "pygments_lexer": "ipython3",
   "version": "3.10.7"
  },
  "vscode": {
   "interpreter": {
    "hash": "a1e60d1f1cdab1abe4cfa434fb032b7e46e75d7bbbc8b5edfbaa85fe07d27dfb"
   }
  }
 },
 "nbformat": 4,
 "nbformat_minor": 5
}
