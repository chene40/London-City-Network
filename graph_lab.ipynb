{
 "cells": [
  {
   "cell_type": "markdown",
   "metadata": {},
   "source": [
    "# Graph Lab"
   ]
  },
  {
   "cell_type": "markdown",
   "metadata": {},
   "source": [
    "## Header information:\n",
    "\n",
    "  - Author #1: Eric Chen (chene40@mcmaster.ca)\n",
    "  - Author #2: Payton Chan (chanp29@mcmaster.ca)\n",
    "  - Gitlab URL: https://gitlab.cas.mcmaster.ca/chene40/l1-graph-lab\n",
    "  - Avenue to Learn group name: Group 40"
   ]
  }
 ],
 "metadata": {
  "kernelspec": {
   "display_name": "Python 3.10.6 64-bit (microsoft store)",
   "language": "python",
   "name": "python3"
  },
  "language_info": {
   "codemirror_mode": {
    "name": "ipython",
    "version": 3
   },
   "file_extension": ".py",
   "mimetype": "text/x-python",
   "name": "python",
   "nbconvert_exporter": "python",
   "pygments_lexer": "ipython3",
   "version": "3.10.6"
  },
  "vscode": {
   "interpreter": {
    "hash": "bbcde98f218c40a1b883247c9f90e8ac42c6301b3fcb2ae8ef1662657005dfbd"
   }
  }
 },
 "nbformat": 4,
 "nbformat_minor": 5
}
